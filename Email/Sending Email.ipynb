{
 "cells": [
  {
   "cell_type": "code",
   "execution_count": null,
   "metadata": {},
   "outputs": [],
   "source": [
    "import smtplib\n",
    "from email.mime.text import MIMEText\n",
    "from email.mime.multipart import MIMEMultipart\n",
    "\n",
    "# environment variables ENTER YOUR EMAIL ID AND PASSWORD\n",
    "username = ''#your email id \n",
    "password = ''#your Password\n",
    "sub = input('Enter Subject:\\n')\n",
    "to = input('Enter email Id:\\n')\n",
    "msg = input('Enter message that has to be sent:\\n')\n",
    "def send_mail(text=msg, subject=sub, from_email='Your name <you@email>', to_emails=None, html=None):#Entering your name and email id\n",
    "    assert isinstance(to_emails, list)\n",
    "    msg = MIMEMultipart('alternative')\n",
    "    msg['From'] = from_email\n",
    "    msg['To'] = \", \".join(to_emails)\n",
    "    msg['Subject'] = subject\n",
    "    txt_part = MIMEText(text, 'plain')\n",
    "    msg.attach(txt_part)\n",
    "    if html != None:\n",
    "        html_part = MIMEText(html, 'html')\n",
    "        msg.attach(html_part)\n",
    "    msg_str = msg.as_string()\n",
    "    # login to my smtp server\n",
    "    server = smtplib.SMTP(host='smtp.gmail.com', port=587)\n",
    "    server.ehlo()\n",
    "    server.starttls()\n",
    "    server.login(username, password)\n",
    "    server.sendmail(from_email, to_emails, msg_str)\n",
    "    server.quit()\n",
    "\n",
    "print('\\n-----------------------------------------\\n')\n",
    "conf = input('''Confirm Above Details (y/n)''')\n",
    "if(conf is '''y'''):\n",
    "    send_mail(to_emails=[to])\n",
    "    print(\"Email Sent to\", to)\n",
    "if(conf is '''n'''):\n",
    "    print('Run the program again')"
   ]
  },
  {
   "cell_type": "code",
   "execution_count": null,
   "metadata": {},
   "outputs": [],
   "source": []
  },
  {
   "cell_type": "code",
   "execution_count": null,
   "metadata": {},
   "outputs": [],
   "source": []
  }
 ],
 "metadata": {
  "kernelspec": {
   "display_name": "Python 3",
   "language": "python",
   "name": "python3"
  },
  "language_info": {
   "codemirror_mode": {
    "name": "ipython",
    "version": 3
   },
   "file_extension": ".py",
   "mimetype": "text/x-python",
   "name": "python",
   "nbconvert_exporter": "python",
   "pygments_lexer": "ipython3",
   "version": "3.7.6"
  },
  "toc": {
   "base_numbering": 1,
   "nav_menu": {},
   "number_sections": true,
   "sideBar": true,
   "skip_h1_title": false,
   "title_cell": "Table of Contents",
   "title_sidebar": "Contents",
   "toc_cell": false,
   "toc_position": {},
   "toc_section_display": true,
   "toc_window_display": false
  }
 },
 "nbformat": 4,
 "nbformat_minor": 4
}
